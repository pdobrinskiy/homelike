{
 "cells": [
  {
   "cell_type": "code",
   "execution_count": 1,
   "metadata": {},
   "outputs": [
    {
     "name": "stdout",
     "output_type": "stream",
     "text": [
      "/Users/paveldobrinskiy/Downloads/homelike\n"
     ]
    }
   ],
   "source": [
    "cd Downloads/homelike/"
   ]
  },
  {
   "cell_type": "code",
   "execution_count": 2,
   "metadata": {},
   "outputs": [
    {
     "name": "stdout",
     "output_type": "stream",
     "text": [
      "/Users/paveldobrinskiy/Downloads/homelike/b2cff6d3a22a2dc906b6736356a5a1f5-fd1dacca7bc662cb0fb482570cfcc82d33af3226\n"
     ]
    }
   ],
   "source": [
    "cd b2cff6d3a22a2dc906b6736356a5a1f5-fd1dacca7bc662cb0fb482570cfcc82d33af3226/"
   ]
  },
  {
   "cell_type": "code",
   "execution_count": 3,
   "metadata": {},
   "outputs": [
    {
     "name": "stdout",
     "output_type": "stream",
     "text": [
      "\u001b[31mconversion_data.csv\u001b[m\u001b[m*\r\n"
     ]
    }
   ],
   "source": [
    "ls"
   ]
  },
  {
   "cell_type": "code",
   "execution_count": 21,
   "metadata": {},
   "outputs": [],
   "source": [
    "from __future__ import division\n",
    "import pandas as pd"
   ]
  },
  {
   "cell_type": "markdown",
   "metadata": {},
   "source": [
    "# check how much memory is consumed by homelike DataFrame"
   ]
  },
  {
   "cell_type": "code",
   "execution_count": 22,
   "metadata": {},
   "outputs": [],
   "source": [
    "hlike = pd.read_csv(\"conversion_data.csv\")"
   ]
  },
  {
   "cell_type": "code",
   "execution_count": 23,
   "metadata": {},
   "outputs": [
    {
     "name": "stdout",
     "output_type": "stream",
     "text": [
      "<class 'pandas.core.frame.DataFrame'>\n",
      "RangeIndex: 369380 entries, 0 to 369379\n",
      "Data columns (total 6 columns):\n",
      "timestamp      369380 non-null object\n",
      "session_id     369380 non-null int64\n",
      "device_type    369380 non-null object\n",
      "campaign_id    369343 non-null float64\n",
      "event_type     369380 non-null object\n",
      "page_id        369380 non-null int64\n",
      "dtypes: float64(1), int64(2), object(3)\n",
      "memory usage: 73.4 MB\n"
     ]
    }
   ],
   "source": [
    "hlike.info(memory_usage='deep')"
   ]
  },
  {
   "cell_type": "markdown",
   "metadata": {},
   "source": [
    "# lets check object column. probably high usage of memory with low emount of unique values\n",
    "\n"
   ]
  },
  {
   "cell_type": "code",
   "execution_count": 37,
   "metadata": {},
   "outputs": [
    {
     "data": {
      "text/plain": [
       "[page_impression, conversion]\n",
       "Categories (2, object): [page_impression, conversion]"
      ]
     },
     "execution_count": 37,
     "metadata": {},
     "output_type": "execute_result"
    }
   ],
   "source": [
    "hlike['device_type'].unique()\n",
    "hlike['event_type'].unique()\n"
   ]
  },
  {
   "cell_type": "markdown",
   "metadata": {},
   "source": [
    "# very low unique values will convert to obect"
   ]
  },
  {
   "cell_type": "code",
   "execution_count": 28,
   "metadata": {},
   "outputs": [],
   "source": [
    "hlike['device_type'] = hlike['device_type'].astype('category')\n",
    "hlike['event_type'] = hlike['event_type'].astype('category')\n",
    "### wiil\n",
    "\n"
   ]
  },
  {
   "cell_type": "code",
   "execution_count": 29,
   "metadata": {},
   "outputs": [
    {
     "name": "stdout",
     "output_type": "stream",
     "text": [
      "<class 'pandas.core.frame.DataFrame'>\n",
      "RangeIndex: 369380 entries, 0 to 369379\n",
      "Data columns (total 6 columns):\n",
      "timestamp      369380 non-null object\n",
      "session_id     369380 non-null int64\n",
      "device_type    369380 non-null category\n",
      "campaign_id    369343 non-null float64\n",
      "event_type     369380 non-null category\n",
      "page_id        369380 non-null int64\n",
      "dtypes: category(2), float64(1), int64(2), object(1)\n",
      "memory usage: 35.5 MB\n"
     ]
    }
   ],
   "source": [
    "hlike.info(memory_usage='deep')"
   ]
  },
  {
   "cell_type": "markdown",
   "metadata": {},
   "source": [
    "# also convert object, timestamp to date -> save some space\n",
    "\n"
   ]
  },
  {
   "cell_type": "code",
   "execution_count": 38,
   "metadata": {},
   "outputs": [],
   "source": [
    "hlike['timestamp'] = pd.to_datetime(hlike['timestamp'], format='%Y-%m-%d %H:%M:%S.%f UTC', utc=True)"
   ]
  },
  {
   "cell_type": "code",
   "execution_count": 39,
   "metadata": {},
   "outputs": [
    {
     "name": "stdout",
     "output_type": "stream",
     "text": [
      "<class 'pandas.core.frame.DataFrame'>\n",
      "RangeIndex: 369380 entries, 0 to 369379\n",
      "Data columns (total 6 columns):\n",
      "timestamp      369380 non-null datetime64[ns]\n",
      "session_id     369380 non-null int64\n",
      "device_type    369380 non-null category\n",
      "campaign_id    369343 non-null float64\n",
      "event_type     369380 non-null category\n",
      "page_id        369380 non-null int64\n",
      "dtypes: category(2), datetime64[ns](1), float64(1), int64(2)\n",
      "memory usage: 12.0 MB\n"
     ]
    }
   ],
   "source": [
    "hlike.info(memory_usage='deep')"
   ]
  },
  {
   "cell_type": "markdown",
   "metadata": {},
   "source": [
    "# save from 76 to 12MB. "
   ]
  }
 ],
 "metadata": {
  "kernelspec": {
   "display_name": "Python 2",
   "language": "python",
   "name": "python2"
  },
  "language_info": {
   "codemirror_mode": {
    "name": "ipython",
    "version": 2
   },
   "file_extension": ".py",
   "mimetype": "text/x-python",
   "name": "python",
   "nbconvert_exporter": "python",
   "pygments_lexer": "ipython2",
   "version": "2.7.13"
  }
 },
 "nbformat": 4,
 "nbformat_minor": 2
}
